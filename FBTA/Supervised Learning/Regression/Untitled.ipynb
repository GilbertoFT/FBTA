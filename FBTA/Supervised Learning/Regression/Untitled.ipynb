{
 "cells": [
  {
   "cell_type": "code",
   "execution_count": 2,
   "metadata": {
    "collapsed": true
   },
   "outputs": [],
   "source": [
    "# INICIO DO PROGRAMA -> IMPORTANDO BIBLIOTECAS"
   ]
  },
  {
   "cell_type": "code",
   "execution_count": 2,
   "metadata": {},
   "outputs": [],
   "source": [
    "import numpy as np\n",
    "import pandas as pd\n",
    "import os"
   ]
  },
  {
   "cell_type": "code",
   "execution_count": 3,
   "metadata": {
    "collapsed": true
   },
   "outputs": [],
   "source": [
    "# CARREGANDO DATASET"
   ]
  },
  {
   "cell_type": "code",
   "execution_count": 4,
   "metadata": {},
   "outputs": [],
   "source": [
    "dataset = os.path.join(\"datasets\", \"CaliforniaHousing\",\"cal_housing.csv\")\n",
    "\n",
    "dataColumns = (\"Longitude\",\"Latitude\",\"IdadeMediaCasa\", \"Comodos\", \"Quartos\", \"Pessoas\", \"HouseHold\",\n",
    "\"RendaMedia\", \"ValorMedioCasa\")"
   ]
  },
  {
   "cell_type": "code",
   "execution_count": 5,
   "metadata": {},
   "outputs": [],
   "source": [
    "#with open(dataset) as f:\n",
    "#    lines = [line.strip().split(\"\\t\") for line in f.readlines()]\n",
    "#lines\n",
    "#text = [x[1] for x in lines]\n",
    "#y = [int(x[0] == \"spam\") for x in lines]\n",
    "\n",
    "housing = pd.read_csv(dataset,header=None,names = dataColumns)"
   ]
  },
  {
   "cell_type": "code",
   "execution_count": null,
   "metadata": {},
   "outputs": [],
   "source": []
  },
  {
   "cell_type": "code",
   "execution_count": 6,
   "metadata": {
    "collapsed": true
   },
   "outputs": [],
   "source": [
    "#Analisando dados, quantidade de celulas, média, desvio padrão, mínimo e máximo"
   ]
  },
  {
   "cell_type": "code",
   "execution_count": 7,
   "metadata": {},
   "outputs": [
    {
     "data": {
      "text/html": [
       "<div>\n",
       "<style>\n",
       "    .dataframe thead tr:only-child th {\n",
       "        text-align: right;\n",
       "    }\n",
       "\n",
       "    .dataframe thead th {\n",
       "        text-align: left;\n",
       "    }\n",
       "\n",
       "    .dataframe tbody tr th {\n",
       "        vertical-align: top;\n",
       "    }\n",
       "</style>\n",
       "<table border=\"1\" class=\"dataframe\">\n",
       "  <thead>\n",
       "    <tr style=\"text-align: right;\">\n",
       "      <th></th>\n",
       "      <th>count</th>\n",
       "      <th>mean</th>\n",
       "      <th>std</th>\n",
       "      <th>min</th>\n",
       "      <th>25%</th>\n",
       "      <th>50%</th>\n",
       "      <th>75%</th>\n",
       "      <th>max</th>\n",
       "    </tr>\n",
       "  </thead>\n",
       "  <tbody>\n",
       "    <tr>\n",
       "      <th>Longitude</th>\n",
       "      <td>20640.0</td>\n",
       "      <td>-119.569704</td>\n",
       "      <td>2.003532</td>\n",
       "      <td>-124.3500</td>\n",
       "      <td>-121.8000</td>\n",
       "      <td>-118.4900</td>\n",
       "      <td>-118.01000</td>\n",
       "      <td>-114.3100</td>\n",
       "    </tr>\n",
       "    <tr>\n",
       "      <th>Latitude</th>\n",
       "      <td>20640.0</td>\n",
       "      <td>35.631861</td>\n",
       "      <td>2.135952</td>\n",
       "      <td>32.5400</td>\n",
       "      <td>33.9300</td>\n",
       "      <td>34.2600</td>\n",
       "      <td>37.71000</td>\n",
       "      <td>41.9500</td>\n",
       "    </tr>\n",
       "    <tr>\n",
       "      <th>IdadeMediaCasa</th>\n",
       "      <td>20640.0</td>\n",
       "      <td>28.639486</td>\n",
       "      <td>12.585558</td>\n",
       "      <td>1.0000</td>\n",
       "      <td>18.0000</td>\n",
       "      <td>29.0000</td>\n",
       "      <td>37.00000</td>\n",
       "      <td>52.0000</td>\n",
       "    </tr>\n",
       "    <tr>\n",
       "      <th>Comodos</th>\n",
       "      <td>20640.0</td>\n",
       "      <td>2635.763081</td>\n",
       "      <td>2181.615252</td>\n",
       "      <td>2.0000</td>\n",
       "      <td>1447.7500</td>\n",
       "      <td>2127.0000</td>\n",
       "      <td>3148.00000</td>\n",
       "      <td>39320.0000</td>\n",
       "    </tr>\n",
       "    <tr>\n",
       "      <th>Quartos</th>\n",
       "      <td>20640.0</td>\n",
       "      <td>537.898014</td>\n",
       "      <td>421.247906</td>\n",
       "      <td>1.0000</td>\n",
       "      <td>295.0000</td>\n",
       "      <td>435.0000</td>\n",
       "      <td>647.00000</td>\n",
       "      <td>6445.0000</td>\n",
       "    </tr>\n",
       "    <tr>\n",
       "      <th>Pessoas</th>\n",
       "      <td>20640.0</td>\n",
       "      <td>1425.476744</td>\n",
       "      <td>1132.462122</td>\n",
       "      <td>3.0000</td>\n",
       "      <td>787.0000</td>\n",
       "      <td>1166.0000</td>\n",
       "      <td>1725.00000</td>\n",
       "      <td>35682.0000</td>\n",
       "    </tr>\n",
       "    <tr>\n",
       "      <th>HouseHold</th>\n",
       "      <td>20640.0</td>\n",
       "      <td>499.539680</td>\n",
       "      <td>382.329753</td>\n",
       "      <td>1.0000</td>\n",
       "      <td>280.0000</td>\n",
       "      <td>409.0000</td>\n",
       "      <td>605.00000</td>\n",
       "      <td>6082.0000</td>\n",
       "    </tr>\n",
       "    <tr>\n",
       "      <th>RendaMedia</th>\n",
       "      <td>20640.0</td>\n",
       "      <td>3.870671</td>\n",
       "      <td>1.899822</td>\n",
       "      <td>0.4999</td>\n",
       "      <td>2.5634</td>\n",
       "      <td>3.5348</td>\n",
       "      <td>4.74325</td>\n",
       "      <td>15.0001</td>\n",
       "    </tr>\n",
       "    <tr>\n",
       "      <th>ValorMedioCasa</th>\n",
       "      <td>20640.0</td>\n",
       "      <td>206855.816909</td>\n",
       "      <td>115395.615874</td>\n",
       "      <td>14999.0000</td>\n",
       "      <td>119600.0000</td>\n",
       "      <td>179700.0000</td>\n",
       "      <td>264725.00000</td>\n",
       "      <td>500001.0000</td>\n",
       "    </tr>\n",
       "  </tbody>\n",
       "</table>\n",
       "</div>"
      ],
      "text/plain": [
       "                  count           mean            std         min  \\\n",
       "Longitude       20640.0    -119.569704       2.003532   -124.3500   \n",
       "Latitude        20640.0      35.631861       2.135952     32.5400   \n",
       "IdadeMediaCasa  20640.0      28.639486      12.585558      1.0000   \n",
       "Comodos         20640.0    2635.763081    2181.615252      2.0000   \n",
       "Quartos         20640.0     537.898014     421.247906      1.0000   \n",
       "Pessoas         20640.0    1425.476744    1132.462122      3.0000   \n",
       "HouseHold       20640.0     499.539680     382.329753      1.0000   \n",
       "RendaMedia      20640.0       3.870671       1.899822      0.4999   \n",
       "ValorMedioCasa  20640.0  206855.816909  115395.615874  14999.0000   \n",
       "\n",
       "                        25%          50%           75%          max  \n",
       "Longitude         -121.8000    -118.4900    -118.01000    -114.3100  \n",
       "Latitude            33.9300      34.2600      37.71000      41.9500  \n",
       "IdadeMediaCasa      18.0000      29.0000      37.00000      52.0000  \n",
       "Comodos           1447.7500    2127.0000    3148.00000   39320.0000  \n",
       "Quartos            295.0000     435.0000     647.00000    6445.0000  \n",
       "Pessoas            787.0000    1166.0000    1725.00000   35682.0000  \n",
       "HouseHold          280.0000     409.0000     605.00000    6082.0000  \n",
       "RendaMedia           2.5634       3.5348       4.74325      15.0001  \n",
       "ValorMedioCasa  119600.0000  179700.0000  264725.00000  500001.0000  "
      ]
     },
     "execution_count": 7,
     "metadata": {},
     "output_type": "execute_result"
    }
   ],
   "source": [
    "housing.describe().transpose()"
   ]
  },
  {
   "cell_type": "code",
   "execution_count": 9,
   "metadata": {
    "collapsed": true
   },
   "outputs": [],
   "source": [
    "#Observa-se a necessidade de esclusão de algumas informações e também de normalização"
   ]
  },
  {
   "cell_type": "code",
   "execution_count": 8,
   "metadata": {
    "collapsed": true
   },
   "outputs": [],
   "source": [
    "x_data = housing.drop(['Longitude','Latitude','ValorMedioCasa'],axis=1)\n",
    "y_data = housing['ValorMedioCasa']"
   ]
  },
  {
   "cell_type": "code",
   "execution_count": 9,
   "metadata": {},
   "outputs": [
    {
     "data": {
      "text/plain": [
       "['IdadeMediaCasa', 'Comodos', 'Quartos', 'Pessoas', 'HouseHold', 'RendaMedia']"
      ]
     },
     "execution_count": 9,
     "metadata": {},
     "output_type": "execute_result"
    }
   ],
   "source": [
    "x_data.columns.tolist()"
   ]
  },
  {
   "cell_type": "code",
   "execution_count": 11,
   "metadata": {},
   "outputs": [
    {
     "data": {
      "text/plain": [
       "[[41.0, 880.0, 129.0, 322.0, 126.0, 8.3252],\n",
       " [21.0, 7099.0, 1106.0, 2401.0, 1138.0, 8.3014],\n",
       " [52.0, 1467.0, 190.0, 496.0, 177.0, 7.2574],\n",
       " [52.0, 1274.0, 235.0, 558.0, 219.0, 5.6431],\n",
       " [52.0, 1627.0, 280.0, 565.0, 259.0, 3.8462]]"
      ]
     },
     "execution_count": 11,
     "metadata": {},
     "output_type": "execute_result"
    }
   ],
   "source": [
    "x_data.values.tolist()[0:5]"
   ]
  },
  {
   "cell_type": "code",
   "execution_count": 12,
   "metadata": {
    "collapsed": true
   },
   "outputs": [],
   "source": [
    "#Separando dados de treinamento e de teste."
   ]
  },
  {
   "cell_type": "code",
   "execution_count": 38,
   "metadata": {},
   "outputs": [],
   "source": [
    "from sklearn.model_selection import train_test_split\n",
    "\n",
    "x_train, x_test, y_train, y_test = train_test_split(x_data,y_data,test_size=0.3,random_state=123)"
   ]
  },
  {
   "cell_type": "code",
   "execution_count": 39,
   "metadata": {},
   "outputs": [
    {
     "data": {
      "text/html": [
       "<div>\n",
       "<style>\n",
       "    .dataframe thead tr:only-child th {\n",
       "        text-align: right;\n",
       "    }\n",
       "\n",
       "    .dataframe thead th {\n",
       "        text-align: left;\n",
       "    }\n",
       "\n",
       "    .dataframe tbody tr th {\n",
       "        vertical-align: top;\n",
       "    }\n",
       "</style>\n",
       "<table border=\"1\" class=\"dataframe\">\n",
       "  <thead>\n",
       "    <tr style=\"text-align: right;\">\n",
       "      <th></th>\n",
       "      <th>IdadeMediaCasa</th>\n",
       "      <th>Comodos</th>\n",
       "      <th>Quartos</th>\n",
       "      <th>Pessoas</th>\n",
       "      <th>HouseHold</th>\n",
       "      <th>RendaMedia</th>\n",
       "    </tr>\n",
       "  </thead>\n",
       "  <tbody>\n",
       "    <tr>\n",
       "      <th>12364</th>\n",
       "      <td>6.0</td>\n",
       "      <td>4863.0</td>\n",
       "      <td>920.0</td>\n",
       "      <td>3010.0</td>\n",
       "      <td>828.0</td>\n",
       "      <td>3.9508</td>\n",
       "    </tr>\n",
       "    <tr>\n",
       "      <th>12271</th>\n",
       "      <td>21.0</td>\n",
       "      <td>4624.0</td>\n",
       "      <td>852.0</td>\n",
       "      <td>2174.0</td>\n",
       "      <td>812.0</td>\n",
       "      <td>3.5255</td>\n",
       "    </tr>\n",
       "    <tr>\n",
       "      <th>19605</th>\n",
       "      <td>32.0</td>\n",
       "      <td>946.0</td>\n",
       "      <td>198.0</td>\n",
       "      <td>624.0</td>\n",
       "      <td>173.0</td>\n",
       "      <td>1.9728</td>\n",
       "    </tr>\n",
       "    <tr>\n",
       "      <th>10600</th>\n",
       "      <td>8.0</td>\n",
       "      <td>2032.0</td>\n",
       "      <td>349.0</td>\n",
       "      <td>862.0</td>\n",
       "      <td>340.0</td>\n",
       "      <td>6.9133</td>\n",
       "    </tr>\n",
       "    <tr>\n",
       "      <th>45</th>\n",
       "      <td>52.0</td>\n",
       "      <td>1656.0</td>\n",
       "      <td>420.0</td>\n",
       "      <td>718.0</td>\n",
       "      <td>382.0</td>\n",
       "      <td>2.6768</td>\n",
       "    </tr>\n",
       "    <tr>\n",
       "      <th>2889</th>\n",
       "      <td>52.0</td>\n",
       "      <td>2805.0</td>\n",
       "      <td>573.0</td>\n",
       "      <td>1325.0</td>\n",
       "      <td>522.0</td>\n",
       "      <td>2.5083</td>\n",
       "    </tr>\n",
       "    <tr>\n",
       "      <th>1743</th>\n",
       "      <td>29.0</td>\n",
       "      <td>1899.0</td>\n",
       "      <td>524.0</td>\n",
       "      <td>1357.0</td>\n",
       "      <td>443.0</td>\n",
       "      <td>1.8750</td>\n",
       "    </tr>\n",
       "    <tr>\n",
       "      <th>10770</th>\n",
       "      <td>13.0</td>\n",
       "      <td>1642.0</td>\n",
       "      <td>423.0</td>\n",
       "      <td>841.0</td>\n",
       "      <td>368.0</td>\n",
       "      <td>3.6042</td>\n",
       "    </tr>\n",
       "    <tr>\n",
       "      <th>15005</th>\n",
       "      <td>43.0</td>\n",
       "      <td>1718.0</td>\n",
       "      <td>344.0</td>\n",
       "      <td>826.0</td>\n",
       "      <td>336.0</td>\n",
       "      <td>2.7014</td>\n",
       "    </tr>\n",
       "    <tr>\n",
       "      <th>13823</th>\n",
       "      <td>10.0</td>\n",
       "      <td>4201.0</td>\n",
       "      <td>850.0</td>\n",
       "      <td>2378.0</td>\n",
       "      <td>808.0</td>\n",
       "      <td>2.1781</td>\n",
       "    </tr>\n",
       "  </tbody>\n",
       "</table>\n",
       "</div>"
      ],
      "text/plain": [
       "       IdadeMediaCasa  Comodos  Quartos  Pessoas  HouseHold  RendaMedia\n",
       "12364             6.0   4863.0    920.0   3010.0      828.0      3.9508\n",
       "12271            21.0   4624.0    852.0   2174.0      812.0      3.5255\n",
       "19605            32.0    946.0    198.0    624.0      173.0      1.9728\n",
       "10600             8.0   2032.0    349.0    862.0      340.0      6.9133\n",
       "45               52.0   1656.0    420.0    718.0      382.0      2.6768\n",
       "2889             52.0   2805.0    573.0   1325.0      522.0      2.5083\n",
       "1743             29.0   1899.0    524.0   1357.0      443.0      1.8750\n",
       "10770            13.0   1642.0    423.0    841.0      368.0      3.6042\n",
       "15005            43.0   1718.0    344.0    826.0      336.0      2.7014\n",
       "13823            10.0   4201.0    850.0   2378.0      808.0      2.1781"
      ]
     },
     "execution_count": 39,
     "metadata": {},
     "output_type": "execute_result"
    }
   ],
   "source": [
    "x_train[0:10]"
   ]
  },
  {
   "cell_type": "code",
   "execution_count": 15,
   "metadata": {},
   "outputs": [
    {
     "data": {
      "text/plain": [
       "MinMaxScaler(copy=True, feature_range=(0, 1))"
      ]
     },
     "execution_count": 15,
     "metadata": {},
     "output_type": "execute_result"
    }
   ],
   "source": [
    "from sklearn.preprocessing import MinMaxScaler\n",
    "\n",
    "Escala = MinMaxScaler()\n",
    "Escala.fit(x_train)"
   ]
  },
  {
   "cell_type": "code",
   "execution_count": 36,
   "metadata": {},
   "outputs": [
    {
     "name": "stdout",
     "output_type": "stream",
     "text": [
      "[[  6.00000000e+00   4.86300000e+03   9.20000000e+02   3.01000000e+03\n",
      "    8.28000000e+02   3.95080000e+00]\n",
      " [  2.10000000e+01   4.62400000e+03   8.52000000e+02   2.17400000e+03\n",
      "    8.12000000e+02   3.52550000e+00]\n",
      " [  3.20000000e+01   9.46000000e+02   1.98000000e+02   6.24000000e+02\n",
      "    1.73000000e+02   1.97280000e+00]\n",
      " ..., \n",
      " [  5.00000000e+00   4.15300000e+03   7.19000000e+02   2.43500000e+03\n",
      "    6.97000000e+02   5.63060000e+00]\n",
      " [  4.40000000e+01   1.54500000e+03   3.34000000e+02   5.61000000e+02\n",
      "    3.26000000e+02   3.87500000e+00]\n",
      " [  2.00000000e+01   1.91100000e+03   3.89000000e+02   1.24100000e+03\n",
      "    3.48000000e+02   2.51560000e+00]]\n"
     ]
    }
   ],
   "source": [
    "x_norm = x_train.values\n",
    "print(x_norm)"
   ]
  },
  {
   "cell_type": "code",
   "execution_count": 33,
   "metadata": {},
   "outputs": [
    {
     "data": {
      "text/plain": [
       "array([[ 0.09803922,  0.12354378,  0.14801095,  0.18445589,  0.15437745,\n",
       "         0.23798982],\n",
       "       [ 0.39215686,  0.11746452,  0.13705911,  0.13317384,  0.1513907 ,\n",
       "         0.20865919],\n",
       "       [ 0.60784314,  0.02391006,  0.03172814,  0.03809349,  0.03210752,\n",
       "         0.10157791],\n",
       "       ..., \n",
       "       [ 0.07843137,  0.10548405,  0.11563859,  0.14918415,  0.12992346,\n",
       "         0.3538365 ],\n",
       "       [ 0.84313725,  0.03914636,  0.05363182,  0.03422893,  0.06066828,\n",
       "         0.23276231],\n",
       "       [ 0.37254902,  0.04845602,  0.06248993,  0.0759416 ,  0.06477506,\n",
       "         0.13901188]])"
      ]
     },
     "execution_count": 33,
     "metadata": {},
     "output_type": "execute_result"
    }
   ],
   "source": [
    "x_norm = Escala.transform(x_norm)\n",
    "x_norm"
   ]
  },
  {
   "cell_type": "code",
   "execution_count": 40,
   "metadata": {},
   "outputs": [],
   "source": [
    "x_train = pd.DataFrame(data=Escala.transform(x_train),columns = x_train.columns,index=x_train.index)"
   ]
  },
  {
   "cell_type": "code",
   "execution_count": 41,
   "metadata": {},
   "outputs": [
    {
     "data": {
      "text/html": [
       "<div>\n",
       "<style>\n",
       "    .dataframe thead tr:only-child th {\n",
       "        text-align: right;\n",
       "    }\n",
       "\n",
       "    .dataframe thead th {\n",
       "        text-align: left;\n",
       "    }\n",
       "\n",
       "    .dataframe tbody tr th {\n",
       "        vertical-align: top;\n",
       "    }\n",
       "</style>\n",
       "<table border=\"1\" class=\"dataframe\">\n",
       "  <thead>\n",
       "    <tr style=\"text-align: right;\">\n",
       "      <th></th>\n",
       "      <th>IdadeMediaCasa</th>\n",
       "      <th>Comodos</th>\n",
       "      <th>Quartos</th>\n",
       "      <th>Pessoas</th>\n",
       "      <th>HouseHold</th>\n",
       "      <th>RendaMedia</th>\n",
       "    </tr>\n",
       "  </thead>\n",
       "  <tbody>\n",
       "    <tr>\n",
       "      <th>12364</th>\n",
       "      <td>0.098039</td>\n",
       "      <td>0.123544</td>\n",
       "      <td>0.148011</td>\n",
       "      <td>0.184456</td>\n",
       "      <td>0.154377</td>\n",
       "      <td>0.237990</td>\n",
       "    </tr>\n",
       "    <tr>\n",
       "      <th>12271</th>\n",
       "      <td>0.392157</td>\n",
       "      <td>0.117465</td>\n",
       "      <td>0.137059</td>\n",
       "      <td>0.133174</td>\n",
       "      <td>0.151391</td>\n",
       "      <td>0.208659</td>\n",
       "    </tr>\n",
       "    <tr>\n",
       "      <th>19605</th>\n",
       "      <td>0.607843</td>\n",
       "      <td>0.023910</td>\n",
       "      <td>0.031728</td>\n",
       "      <td>0.038093</td>\n",
       "      <td>0.032108</td>\n",
       "      <td>0.101578</td>\n",
       "    </tr>\n",
       "    <tr>\n",
       "      <th>10600</th>\n",
       "      <td>0.137255</td>\n",
       "      <td>0.051534</td>\n",
       "      <td>0.056048</td>\n",
       "      <td>0.052693</td>\n",
       "      <td>0.063282</td>\n",
       "      <td>0.442297</td>\n",
       "    </tr>\n",
       "    <tr>\n",
       "      <th>45</th>\n",
       "      <td>1.000000</td>\n",
       "      <td>0.041970</td>\n",
       "      <td>0.067483</td>\n",
       "      <td>0.043860</td>\n",
       "      <td>0.071122</td>\n",
       "      <td>0.150129</td>\n",
       "    </tr>\n",
       "    <tr>\n",
       "      <th>2889</th>\n",
       "      <td>1.000000</td>\n",
       "      <td>0.071196</td>\n",
       "      <td>0.092124</td>\n",
       "      <td>0.081094</td>\n",
       "      <td>0.097256</td>\n",
       "      <td>0.138508</td>\n",
       "    </tr>\n",
       "    <tr>\n",
       "      <th>1743</th>\n",
       "      <td>0.549020</td>\n",
       "      <td>0.048151</td>\n",
       "      <td>0.084233</td>\n",
       "      <td>0.083057</td>\n",
       "      <td>0.082509</td>\n",
       "      <td>0.094833</td>\n",
       "    </tr>\n",
       "    <tr>\n",
       "      <th>10770</th>\n",
       "      <td>0.235294</td>\n",
       "      <td>0.041614</td>\n",
       "      <td>0.067966</td>\n",
       "      <td>0.051405</td>\n",
       "      <td>0.068508</td>\n",
       "      <td>0.214087</td>\n",
       "    </tr>\n",
       "    <tr>\n",
       "      <th>15005</th>\n",
       "      <td>0.823529</td>\n",
       "      <td>0.043547</td>\n",
       "      <td>0.055242</td>\n",
       "      <td>0.050485</td>\n",
       "      <td>0.062535</td>\n",
       "      <td>0.151825</td>\n",
       "    </tr>\n",
       "    <tr>\n",
       "      <th>13823</th>\n",
       "      <td>0.176471</td>\n",
       "      <td>0.106705</td>\n",
       "      <td>0.136737</td>\n",
       "      <td>0.145688</td>\n",
       "      <td>0.150644</td>\n",
       "      <td>0.115736</td>\n",
       "    </tr>\n",
       "  </tbody>\n",
       "</table>\n",
       "</div>"
      ],
      "text/plain": [
       "       IdadeMediaCasa   Comodos   Quartos   Pessoas  HouseHold  RendaMedia\n",
       "12364        0.098039  0.123544  0.148011  0.184456   0.154377    0.237990\n",
       "12271        0.392157  0.117465  0.137059  0.133174   0.151391    0.208659\n",
       "19605        0.607843  0.023910  0.031728  0.038093   0.032108    0.101578\n",
       "10600        0.137255  0.051534  0.056048  0.052693   0.063282    0.442297\n",
       "45           1.000000  0.041970  0.067483  0.043860   0.071122    0.150129\n",
       "2889         1.000000  0.071196  0.092124  0.081094   0.097256    0.138508\n",
       "1743         0.549020  0.048151  0.084233  0.083057   0.082509    0.094833\n",
       "10770        0.235294  0.041614  0.067966  0.051405   0.068508    0.214087\n",
       "15005        0.823529  0.043547  0.055242  0.050485   0.062535    0.151825\n",
       "13823        0.176471  0.106705  0.136737  0.145688   0.150644    0.115736"
      ]
     },
     "execution_count": 41,
     "metadata": {},
     "output_type": "execute_result"
    }
   ],
   "source": [
    "x_train[0:10]"
   ]
  },
  {
   "cell_type": "code",
   "execution_count": 42,
   "metadata": {
    "collapsed": true
   },
   "outputs": [],
   "source": [
    "x_test = pd.DataFrame(data=Escala.transform(x_test),columns = x_test.columns,index=x_test.index)"
   ]
  },
  {
   "cell_type": "code",
   "execution_count": 43,
   "metadata": {},
   "outputs": [
    {
     "data": {
      "text/html": [
       "<div>\n",
       "<style>\n",
       "    .dataframe thead tr:only-child th {\n",
       "        text-align: right;\n",
       "    }\n",
       "\n",
       "    .dataframe thead th {\n",
       "        text-align: left;\n",
       "    }\n",
       "\n",
       "    .dataframe tbody tr th {\n",
       "        vertical-align: top;\n",
       "    }\n",
       "</style>\n",
       "<table border=\"1\" class=\"dataframe\">\n",
       "  <thead>\n",
       "    <tr style=\"text-align: right;\">\n",
       "      <th></th>\n",
       "      <th>IdadeMediaCasa</th>\n",
       "      <th>Comodos</th>\n",
       "      <th>Quartos</th>\n",
       "      <th>Pessoas</th>\n",
       "      <th>HouseHold</th>\n",
       "      <th>RendaMedia</th>\n",
       "    </tr>\n",
       "  </thead>\n",
       "  <tbody>\n",
       "    <tr>\n",
       "      <th>19121</th>\n",
       "      <td>0.764706</td>\n",
       "      <td>0.050059</td>\n",
       "      <td>0.065872</td>\n",
       "      <td>0.063550</td>\n",
       "      <td>0.074109</td>\n",
       "      <td>0.227018</td>\n",
       "    </tr>\n",
       "    <tr>\n",
       "      <th>20019</th>\n",
       "      <td>0.156863</td>\n",
       "      <td>0.083711</td>\n",
       "      <td>0.091319</td>\n",
       "      <td>0.107103</td>\n",
       "      <td>0.105843</td>\n",
       "      <td>0.242879</td>\n",
       "    </tr>\n",
       "    <tr>\n",
       "      <th>15104</th>\n",
       "      <td>0.215686</td>\n",
       "      <td>0.090655</td>\n",
       "      <td>0.114672</td>\n",
       "      <td>0.203533</td>\n",
       "      <td>0.124137</td>\n",
       "      <td>0.247466</td>\n",
       "    </tr>\n",
       "    <tr>\n",
       "      <th>3720</th>\n",
       "      <td>0.509804</td>\n",
       "      <td>0.081269</td>\n",
       "      <td>0.156064</td>\n",
       "      <td>0.208563</td>\n",
       "      <td>0.176778</td>\n",
       "      <td>0.119847</td>\n",
       "    </tr>\n",
       "    <tr>\n",
       "      <th>8938</th>\n",
       "      <td>0.784314</td>\n",
       "      <td>0.068627</td>\n",
       "      <td>0.089547</td>\n",
       "      <td>0.064041</td>\n",
       "      <td>0.089042</td>\n",
       "      <td>0.270424</td>\n",
       "    </tr>\n",
       "    <tr>\n",
       "      <th>13730</th>\n",
       "      <td>0.784314</td>\n",
       "      <td>0.044768</td>\n",
       "      <td>0.046223</td>\n",
       "      <td>0.046007</td>\n",
       "      <td>0.051708</td>\n",
       "      <td>0.304313</td>\n",
       "    </tr>\n",
       "    <tr>\n",
       "      <th>7955</th>\n",
       "      <td>0.333333</td>\n",
       "      <td>0.058020</td>\n",
       "      <td>0.106458</td>\n",
       "      <td>0.110477</td>\n",
       "      <td>0.100056</td>\n",
       "      <td>0.102785</td>\n",
       "    </tr>\n",
       "    <tr>\n",
       "      <th>15109</th>\n",
       "      <td>0.254902</td>\n",
       "      <td>0.077784</td>\n",
       "      <td>0.079723</td>\n",
       "      <td>0.102932</td>\n",
       "      <td>0.093709</td>\n",
       "      <td>0.271362</td>\n",
       "    </tr>\n",
       "    <tr>\n",
       "      <th>14354</th>\n",
       "      <td>0.431373</td>\n",
       "      <td>0.061276</td>\n",
       "      <td>0.105009</td>\n",
       "      <td>0.078027</td>\n",
       "      <td>0.111070</td>\n",
       "      <td>0.181997</td>\n",
       "    </tr>\n",
       "    <tr>\n",
       "      <th>4450</th>\n",
       "      <td>0.803922</td>\n",
       "      <td>0.022791</td>\n",
       "      <td>0.051055</td>\n",
       "      <td>0.080297</td>\n",
       "      <td>0.060108</td>\n",
       "      <td>0.099143</td>\n",
       "    </tr>\n",
       "  </tbody>\n",
       "</table>\n",
       "</div>"
      ],
      "text/plain": [
       "       IdadeMediaCasa   Comodos   Quartos   Pessoas  HouseHold  RendaMedia\n",
       "19121        0.764706  0.050059  0.065872  0.063550   0.074109    0.227018\n",
       "20019        0.156863  0.083711  0.091319  0.107103   0.105843    0.242879\n",
       "15104        0.215686  0.090655  0.114672  0.203533   0.124137    0.247466\n",
       "3720         0.509804  0.081269  0.156064  0.208563   0.176778    0.119847\n",
       "8938         0.784314  0.068627  0.089547  0.064041   0.089042    0.270424\n",
       "13730        0.784314  0.044768  0.046223  0.046007   0.051708    0.304313\n",
       "7955         0.333333  0.058020  0.106458  0.110477   0.100056    0.102785\n",
       "15109        0.254902  0.077784  0.079723  0.102932   0.093709    0.271362\n",
       "14354        0.431373  0.061276  0.105009  0.078027   0.111070    0.181997\n",
       "4450         0.803922  0.022791  0.051055  0.080297   0.060108    0.099143"
      ]
     },
     "execution_count": 43,
     "metadata": {},
     "output_type": "execute_result"
    }
   ],
   "source": [
    "x_test[0:10]"
   ]
  },
  {
   "cell_type": "code",
   "execution_count": 19,
   "metadata": {},
   "outputs": [],
   "source": [
    "##Regressão"
   ]
  },
  {
   "cell_type": "code",
   "execution_count": 20,
   "metadata": {
    "collapsed": true
   },
   "outputs": [],
   "source": [
    "from sklearn.linear_model import LinearRegression"
   ]
  },
  {
   "cell_type": "code",
   "execution_count": null,
   "metadata": {},
   "outputs": [],
   "source": [
    "\n",
    "regressor = LinearRegression()"
   ]
  },
  {
   "cell_type": "code",
   "execution_count": null,
   "metadata": {},
   "outputs": [],
   "source": [
    "regressor.fit(x_train, y_train)"
   ]
  },
  {
   "cell_type": "code",
   "execution_count": null,
   "metadata": {},
   "outputs": [],
   "source": [
    "print('Weight coefficients: ', regressor.coef_)\n",
    "print('y-axis intercept: ', regressor.intercept_)"
   ]
  },
  {
   "cell_type": "code",
   "execution_count": null,
   "metadata": {
    "collapsed": true
   },
   "outputs": [],
   "source": []
  }
 ],
 "metadata": {
  "kernelspec": {
   "display_name": "Python 3",
   "language": "python",
   "name": "python3"
  },
  "language_info": {
   "codemirror_mode": {
    "name": "ipython",
    "version": 3
   },
   "file_extension": ".py",
   "mimetype": "text/x-python",
   "name": "python",
   "nbconvert_exporter": "python",
   "pygments_lexer": "ipython3",
   "version": "3.5.4"
  }
 },
 "nbformat": 4,
 "nbformat_minor": 2
}
